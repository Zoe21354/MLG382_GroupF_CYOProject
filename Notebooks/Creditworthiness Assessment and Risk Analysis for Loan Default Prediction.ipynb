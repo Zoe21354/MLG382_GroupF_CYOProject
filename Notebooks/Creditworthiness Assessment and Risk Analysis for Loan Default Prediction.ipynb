{
 "cells": [
  {
   "cell_type": "markdown",
   "metadata": {},
   "source": [
    "## **Project Details**\n",
    "**Title:** CYO Project\n",
    "\n",
    "**Due Date:** 13 May 2024\n",
    "\n",
    "**Contributors:**\n",
    "- Dineo Mogale (576500) \n",
    "- Ewan Morris (577388)\n",
    "- Marcus Mahlatjie (577296)\n",
    "- Tiaan Kritzinger (577643)\n",
    "- Quinton Crouse (577696)\n",
    "- Zoë Treutens (577989)\n",
    "\n",
    "**GitHub Link:**\n",
    "\n",
    "==================================================================================="
   ]
  },
  {
   "cell_type": "markdown",
   "metadata": {},
   "source": [
    "# Creditworthiness Assessment and Risk Analysis for Loan Default Prediction\n",
    "(Information on what the topic is and the dataset used)\n",
    "\n",
    "\n",
    "\n",
    "This notebook will take the following structure:\n",
    "\n",
    "    1. Prepare Data (Data Analysis)\n",
    "        A. Dataset Analysis\n",
    "        B. Univariate Analysis\n",
    "        C. Bi-variate Analysis\n",
    "    2. Hypotheses\n",
    "    3. Preprocess Data (Data Cleaning)\n",
    "        A. Handling missing values\n",
    "        B. Removing duplicates\n",
    "        C. Outlier value Handling\n",
    "    4. Split Dataset\n",
    "    5. Model 1\n",
    "        A. Build Model\n",
    "        B. Predictions of the Model\n",
    "        C. Feature Importance from the Model\n",
    "        D. Create Pickle File\n",
    "    6. Model 2\n",
    "        A. Build Model\n",
    "        B. Predictions of the Model\n",
    "        C. Feature Importance from the Model\n",
    "        D. Cross Validation Models\n",
    "        E. Create Pickle File\n",
    "    7. Validate Model 2\n",
    "    8. Web Application\n",
    "\n",
    "===================================================================================\n",
    "\n",
    "# **1. Prepare Data**\n",
    "Before any coding can take place, certain libraries in python need to be imported to perform different functions and make various features available for use."
   ]
  },
  {
   "cell_type": "code",
   "execution_count": null,
   "metadata": {
    "vscode": {
     "languageId": "plaintext"
    }
   },
   "outputs": [],
   "source": [
    "# Import Libraries\n"
   ]
  },
  {
   "cell_type": "markdown",
   "metadata": {},
   "source": [
    "===================================================================================\n",
    "\n",
    "# **2. Hypothees**"
   ]
  },
  {
   "cell_type": "markdown",
   "metadata": {},
   "source": [
    "===================================================================================\n",
    "\n",
    "# **3. Data Cleaning**"
   ]
  },
  {
   "cell_type": "markdown",
   "metadata": {},
   "source": [
    "===================================================================================\n",
    "\n",
    "# **4. Split Dataset**"
   ]
  },
  {
   "cell_type": "markdown",
   "metadata": {},
   "source": [
    "===================================================================================\n",
    "\n",
    "# **5. Model 1**"
   ]
  },
  {
   "cell_type": "markdown",
   "metadata": {},
   "source": [
    "===================================================================================\n",
    "\n",
    "# **6. Model 2**"
   ]
  },
  {
   "cell_type": "markdown",
   "metadata": {},
   "source": [
    "===================================================================================\n",
    "\n",
    "# **7. Validate Model 2**"
   ]
  },
  {
   "cell_type": "markdown",
   "metadata": {},
   "source": [
    "===================================================================================\n",
    "\n",
    "# **8. Web Application**"
   ]
  }
 ],
 "metadata": {
  "language_info": {
   "name": "python"
  }
 },
 "nbformat": 4,
 "nbformat_minor": 2
}
